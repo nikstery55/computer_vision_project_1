{
 "cells": [
  {
   "cell_type": "markdown",
   "metadata": {},
   "source": [
    "## Imports"
   ]
  },
  {
   "cell_type": "code",
   "execution_count": 1,
   "metadata": {},
   "outputs": [],
   "source": [
    "import glob\n",
    "import os\n",
    "import matplotlib.image as mpimg\n",
    "import matplotlib.pyplot as plt\n",
    "import cv2\n",
    "import numpy as np\n",
    "from skimage.feature import hog\n",
    "import time\n",
    "from sklearn.svm import LinearSVC\n",
    "from sklearn.preprocessing import StandardScaler\n",
    "from sklearn.model_selection import train_test_split\n",
    "import pickle\n",
    "from scipy.ndimage.measurements import label\n",
    "from moviepy.editor import VideoFileClip"
   ]
  },
  {
   "cell_type": "code",
   "execution_count": 2,
   "metadata": {},
   "outputs": [
    {
     "name": "stdout",
     "output_type": "stream",
     "text": [
      "Loading Classifier parameters...\n",
      "Loading is done!\n"
     ]
    }
   ],
   "source": [
    "print('Loading Classifier parameters...')\n",
    "dist_pickle = pickle.load( open(\"svc_pickle.p\", \"rb\" ) )\n",
    "svc = dist_pickle[\"svc\"]\n",
    "X_scaler = dist_pickle[\"scaler\"]\n",
    "orient = dist_pickle[\"orient\"]\n",
    "pix_per_cell = dist_pickle[\"pix_per_cell\"]\n",
    "cell_per_block = dist_pickle[\"cell_per_block\"]\n",
    "spatial = dist_pickle[\"spatial\"]\n",
    "hist_bins = dist_pickle[\"hist_bins\"]\n",
    "\n",
    "print('Loading is done!')"
   ]
  },
  {
   "cell_type": "markdown",
   "metadata": {},
   "source": [
    "## Feature Extraction Method"
   ]
  },
  {
   "cell_type": "code",
   "execution_count": 3,
   "metadata": {},
   "outputs": [],
   "source": [
    "def bin_spatial(img, spatial=(32, 32)):\n",
    "    src = cv2.imread(img)\n",
    "    src_resize = cv2.resize(src, spatial) # fx: 가로 사이즈의 배수\n",
    "    resize_feature = src_resize.flatten()\n",
    "\n",
    "    return spatial_features\n",
    "\n",
    "\n",
    "def color_hist(img, hist_bins=32 ):\n",
    "    \n",
    "    src = cv2.imread(img)\n",
    "    hist1_b = cv2.calcHist(images = [src], \n",
    "                         channels = [0], \n",
    "                         mask = None, \n",
    "                         histSize = hist_bins, \n",
    "                         ranges = [0, 255])\n",
    "\n",
    "    hist2_g = cv2.calcHist(images = [src], \n",
    "                         channels = [1], \n",
    "                         mask = None, \n",
    "                         histSize = hist_bins, \n",
    "                         ranges = [0, 255])\n",
    "\n",
    "    hist3_r = cv2.calcHist(images = [src], \n",
    "                         channels = [2], \n",
    "                         mask = None, \n",
    "                         histSize = hist_bins, \n",
    "                         ranges = [0, 255])\n",
    "\n",
    "    hist1_b_f = hist1_b.flatten()\n",
    "    hist2_g_f = hist2_g.flatten()\n",
    "    hist3_r_f = hist3_r.flatten()\n",
    "\n",
    "    hist_feature = np.concatenate([hist1_b_f, hist2_g_f, hist3_r_f]) # 특성 합치는 함수\n",
    "\n",
    "    return hist_feature\n",
    "    \n",
    "\n",
    "def get_hog_features(img, orient, pix_per_cell, cell_per_block, vis=False, feature_vec=True):\n",
    "    hog_img = mpimg.imread(img)\n",
    "    gray_img = cv2.cvtColor(hog_img, cv2.COLOR_BGR2GRAY)\n",
    "    if vis == True:        \n",
    "        hog_feature, hog_image = hog(gray_img, orientations=orient, pixels_per_cell=pix_per_cell, \n",
    "                                         cells_per_block=cell_per_block, block_norm='L2-Hys', \n",
    "                                         transform_sqrt=False, visualize = vis, \n",
    "                                         feature_vector=feature_vec)\n",
    "\n",
    "        feature = hog_feature.flatten()\n",
    "        \n",
    "        return hog_features, hog_image\n",
    "\n",
    "    else:        \n",
    "        hog_feature = hog(gray_img, orientations=orient, pixels_per_cell=pix_per_cell, \n",
    "                                         cells_per_block=cell_per_block, block_norm='L2-Hys', \n",
    "                                         transform_sqrt=False, visualize = vis, \n",
    "                                         feature_vector=feature_vec)\n",
    "\n",
    "        feature = hog_feature.flatten()\n",
    "        \n",
    "        return hog_features    "
   ]
  },
  {
   "cell_type": "markdown",
   "metadata": {},
   "source": [
    "## Window Search"
   ]
  },
  {
   "cell_type": "code",
   "execution_count": 4,
   "metadata": {},
   "outputs": [],
   "source": [
    "def find_cars(img, svc, X_scaler, orient, pix_per_cell, cell_per_block, spatial_size, hist_bins, ystart_ystop_scale, h_shift=0, visualisation=False):\n",
    "    bbox_detection_list=[]\n",
    "    box_vis_list=[]\n",
    "\n",
    "    draw_img = np.copy(img)\n",
    "    img = img.astype(np.float32)/255\n",
    "       \n",
    "    for (ystart, ystop, scale) in ystart_ystop_scale:\n",
    "        \n",
    "        box_vis=[]\n",
    "        # Crop\n",
    "        img_tosearch = img[ystart:ystop, :,]\n",
    "        #ctrans_tosearch = cv2.cvtColor(img_tosearch, cv2.COLOR_RGB2HSV)\n",
    "        ctrans_tosearch = img_tosearch.copy()\n",
    "        if scale != 1:\n",
    "            imshape = ctrans_tosearch.shape            \n",
    "            ctrans_tosearch = cv2.resize(ctrans_tosearch, (np.int64(imshape[1]/scale), np.int64(imshape[0]/scale)))\n",
    "                    \n",
    "        ch1 = ctrans_tosearch[:,:,]\n",
    "        ch1 = cv2.cvtColor(ch1, cv2.COLOR_RGB2GRAY)\n",
    "        #ch2 = ctrans_tosearch[:,:,1]\n",
    "        #ch3 = ctrans_tosearch[:,:,2]\n",
    "\n",
    "        print(ch1.shape)\n",
    "        print(pix_per_cell)\n",
    "        \n",
    "        nxblocks = (ch1.shape[1] // pix_per_cell) - cell_per_block + 1\n",
    "        nyblocks = (ch1.shape[0] // pix_per_cell) - cell_per_block + 1 \n",
    "        nfeat_per_block = orient*cell_per_block**2        \n",
    "\n",
    "        window = 64\n",
    "        nblocks_per_window = (window // pix_per_cell) - cell_per_block + 1\n",
    "        cells_per_step = 2  # Instead of overlap, define how many cells to step\n",
    "        nxsteps = (nxblocks - nblocks_per_window) // cells_per_step + 1\n",
    "        nysteps = (nyblocks - nblocks_per_window) // cells_per_step + 1        \n",
    "\n",
    "        hog1 = get_hog_features(ch1, orient, pix_per_cell, cell_per_block, feature_vec=False)\n",
    "        #hog2 = get_hog_features(ch2, orient, pix_per_cell, cell_per_block, feature_vec=False)\n",
    "        #hog3 = get_hog_features(ch3, orient, pix_per_cell, cell_per_block, feature_vec=False)\n",
    "\n",
    "        for xb in range(nxsteps):\n",
    "            for yb in range(nysteps):\n",
    "                ypos = yb*cells_per_step\n",
    "                xpos = xb*cells_per_step\n",
    "\n",
    "                hog_feat1 = hog1[ypos:ypos+nblocks_per_window, xpos:xpos+nblocks_per_window].ravel() \n",
    "                #hog_feat2 = hog2[ypos:ypos+nblocks_per_window, xpos:xpos+nblocks_per_window].ravel() \n",
    "                #hog_feat3 = hog3[ypos:ypos+nblocks_per_window, xpos:xpos+nblocks_per_window].ravel() \n",
    "                #hog_features = np.hstack((hog_feat1, hog_feat2, hog_feat3)) \n",
    "                hog_features = hog_feat1              \n",
    "                \n",
    "                xleft = xpos*pix_per_cell\n",
    "                ytop = ypos*pix_per_cell\n",
    "             \n",
    "             \n",
    "                subimg = cv2.resize(ctrans_tosearch[ytop:ytop+window, xleft:xleft+window], (64,64))                \n",
    "\n",
    "\n",
    "                spatial_features = bin_spatial(subimg, size=spatial_size)\n",
    "                hist_features = color_hist(subimg, nbins=hist_bins)\n",
    "\n",
    "\n",
    "                test_features = X_scaler.transform(np.hstack((spatial_features, hist_features, hog_features)).reshape(1, -1))    \n",
    "                \n",
    "\n",
    "                test_prediction = svc.predict(test_features)\n",
    "                \n",
    "                if(visualisation):\n",
    "                    xbox_left = np.int64(xleft*scale)\n",
    "                    ytop_draw = np.int64(ytop*scale)\n",
    "                    win_draw = np.int64(window*scale)\n",
    "\n",
    "                    box_vis.append(((xbox_left, ytop_draw+ystart),(xbox_left+win_draw,ytop_draw+win_draw+ystart)))\n",
    "                \n",
    "                if test_prediction == 1:\n",
    "                    xbox_left = np.int64(xleft*scale)\n",
    "                    ytop_draw = np.int64(ytop*scale)\n",
    "                    win_draw = np.int64(window*scale)\n",
    "\n",
    "                    bbox_detection_list.append(((xbox_left+h_shift, ytop_draw+ystart),(xbox_left+win_draw+h_shift,ytop_draw+win_draw+ystart)))\n",
    "\n",
    "                    cv2.rectangle(draw_img,(xbox_left+h_shift, ytop_draw+ystart),(xbox_left+win_draw+h_shift,ytop_draw+win_draw+ystart),(0,0,255),6) \n",
    "        box_vis_list += [box_vis]\n",
    "    return bbox_detection_list, draw_img, box_vis_list"
   ]
  },
  {
   "cell_type": "code",
   "execution_count": null,
   "metadata": {},
   "outputs": [],
   "source": []
  },
  {
   "cell_type": "markdown",
   "metadata": {},
   "source": [
    "## Draw Bounding Box"
   ]
  },
  {
   "cell_type": "code",
   "execution_count": 5,
   "metadata": {},
   "outputs": [],
   "source": [
    "def add_heat(heatmap, bbox_list):\n",
    "\n",
    "    for box in bbox_list:\n",
    "        # Add += 1 for all pixels inside each bbox\n",
    "        heatmap[box[0][1]:box[1][1], box[0][0]:box[1][0]] += 1\n",
    "\n",
    "    return heatmap\n",
    "\n",
    "def apply_threshold(heatmap, threshold):\n",
    "    heatmap[heatmap <= threshold] = 0\n",
    "    \n",
    "    return heatmap\n",
    "\n",
    "def draw_labeled_bboxes(img, labels):\n",
    "    for car_number in range(1, labels[1]+1):\n",
    "        nonzero = (labels[0] == car_number).nonzero()\n",
    "        nonzeroy = np.array(nonzero[0])\n",
    "        nonzerox = np.array(nonzero[1])\n",
    "        bbox = ((np.min(nonzerox), np.min(nonzeroy)), (np.max(nonzerox), np.max(nonzeroy)))\n",
    "        cv2.rectangle(img, bbox[0], bbox[1], (0,0,255), 6)\n",
    "        \n",
    "    return img"
   ]
  },
  {
   "cell_type": "code",
   "execution_count": 6,
   "metadata": {},
   "outputs": [],
   "source": [
    "### Parameters\n",
    "spatial = spatial\n",
    "hist_bins = hist_bins\n",
    "colorspace = 'YCrCb' # Can be RGB, HSV, LUV, HLS, YUV, YCrCb #YCrCb best\n",
    "orient = orient\n",
    "pix_per_cell = pix_per_cell\n",
    "cell_per_block = cell_per_block\n",
    "spatial_size= (spatial, spatial)\n",
    "heat_threshold= 4 # 12\n",
    "#hog_channel = \"ALL\" # Can be 0, 1, 2, or \"ALL\" #ALL,0 best\n",
    "ystart_ystop_scale = [(405, 510, 1), (400, 600, 1.5), (500, 710, 2.5)]\n",
    "\n",
    "def process_image(img): \n",
    "    \n",
    "    bbox_detection_list, detections, box_vis_list = find_cars(img, svc, X_scaler, orient, pix_per_cell, cell_per_block, spatial_size, hist_bins,ystart_ystop_scale)\n",
    "\n",
    "    blank = np.zeros_like(img[:,:,0]).astype(np.float)\n",
    "\n",
    "    heatmap = add_heat(blank, bbox_detection_list)\n",
    "\n",
    "    heatmap = apply_threshold(heatmap,1)\n",
    "\n",
    "    heatmap = np.clip(heatmap, 0, 255)\n",
    "\n",
    "    labels = label(heatmap)\n",
    "\n",
    "    result = draw_labeled_bboxes(np.copy(img), labels)\n",
    "    \n",
    "    return result"
   ]
  },
  {
   "cell_type": "markdown",
   "metadata": {},
   "source": [
    "## Detect Test Images"
   ]
  },
  {
   "cell_type": "code",
   "execution_count": 7,
   "metadata": {},
   "outputs": [],
   "source": [
    "test_images = np.array([plt.imread(i) for i in glob.glob('./test_images_project/*.jpg')])"
   ]
  },
  {
   "cell_type": "code",
   "execution_count": 8,
   "metadata": {},
   "outputs": [],
   "source": [
    "test_img=cv2.cvtColor(test_images[3], cv2.COLOR_BGR2GRAY)"
   ]
  },
  {
   "cell_type": "code",
   "execution_count": 9,
   "metadata": {},
   "outputs": [
    {
     "name": "stdout",
     "output_type": "stream",
     "text": [
      "(105, 1280)\n",
      "(4, 4)\n"
     ]
    },
    {
     "ename": "TypeError",
     "evalue": "unsupported operand type(s) for //: 'int' and 'tuple'",
     "output_type": "error",
     "traceback": [
      "\u001b[1;31m---------------------------------------------------------------------------\u001b[0m",
      "\u001b[1;31mTypeError\u001b[0m                                 Traceback (most recent call last)",
      "\u001b[1;32m<ipython-input-9-cb2e76d4ac63>\u001b[0m in \u001b[0;36m<module>\u001b[1;34m\u001b[0m\n\u001b[1;32m----> 1\u001b[1;33m \u001b[0mresult\u001b[0m \u001b[1;33m=\u001b[0m \u001b[0mprocess_image\u001b[0m\u001b[1;33m(\u001b[0m\u001b[0mtest_images\u001b[0m\u001b[1;33m[\u001b[0m\u001b[1;36m3\u001b[0m\u001b[1;33m]\u001b[0m\u001b[1;33m)\u001b[0m\u001b[1;33m\u001b[0m\u001b[1;33m\u001b[0m\u001b[0m\n\u001b[0m\u001b[0;32m      2\u001b[0m \u001b[0mplt\u001b[0m\u001b[1;33m.\u001b[0m\u001b[0mfigure\u001b[0m\u001b[1;33m(\u001b[0m\u001b[0mfigsize\u001b[0m \u001b[1;33m=\u001b[0m \u001b[1;33m(\u001b[0m\u001b[1;36m20\u001b[0m\u001b[1;33m,\u001b[0m\u001b[1;36m20\u001b[0m\u001b[1;33m)\u001b[0m\u001b[1;33m)\u001b[0m\u001b[1;33m\u001b[0m\u001b[1;33m\u001b[0m\u001b[0m\n\u001b[0;32m      3\u001b[0m \u001b[0mplt\u001b[0m\u001b[1;33m.\u001b[0m\u001b[0mimshow\u001b[0m\u001b[1;33m(\u001b[0m\u001b[0mresult\u001b[0m\u001b[1;33m)\u001b[0m\u001b[1;33m\u001b[0m\u001b[1;33m\u001b[0m\u001b[0m\n\u001b[0;32m      4\u001b[0m \u001b[1;31m#plt.axis(\"off\")\u001b[0m\u001b[1;33m\u001b[0m\u001b[1;33m\u001b[0m\u001b[1;33m\u001b[0m\u001b[0m\n",
      "\u001b[1;32m<ipython-input-6-026d5d71caa2>\u001b[0m in \u001b[0;36mprocess_image\u001b[1;34m(img)\u001b[0m\n\u001b[0;32m     13\u001b[0m \u001b[1;32mdef\u001b[0m \u001b[0mprocess_image\u001b[0m\u001b[1;33m(\u001b[0m\u001b[0mimg\u001b[0m\u001b[1;33m)\u001b[0m\u001b[1;33m:\u001b[0m\u001b[1;33m\u001b[0m\u001b[1;33m\u001b[0m\u001b[0m\n\u001b[0;32m     14\u001b[0m \u001b[1;33m\u001b[0m\u001b[0m\n\u001b[1;32m---> 15\u001b[1;33m     \u001b[0mbbox_detection_list\u001b[0m\u001b[1;33m,\u001b[0m \u001b[0mdetections\u001b[0m\u001b[1;33m,\u001b[0m \u001b[0mbox_vis_list\u001b[0m \u001b[1;33m=\u001b[0m \u001b[0mfind_cars\u001b[0m\u001b[1;33m(\u001b[0m\u001b[0mimg\u001b[0m\u001b[1;33m,\u001b[0m \u001b[0msvc\u001b[0m\u001b[1;33m,\u001b[0m \u001b[0mX_scaler\u001b[0m\u001b[1;33m,\u001b[0m \u001b[0morient\u001b[0m\u001b[1;33m,\u001b[0m \u001b[0mpix_per_cell\u001b[0m\u001b[1;33m,\u001b[0m \u001b[0mcell_per_block\u001b[0m\u001b[1;33m,\u001b[0m \u001b[0mspatial_size\u001b[0m\u001b[1;33m,\u001b[0m \u001b[0mhist_bins\u001b[0m\u001b[1;33m,\u001b[0m\u001b[0mystart_ystop_scale\u001b[0m\u001b[1;33m)\u001b[0m\u001b[1;33m\u001b[0m\u001b[1;33m\u001b[0m\u001b[0m\n\u001b[0m\u001b[0;32m     16\u001b[0m \u001b[1;33m\u001b[0m\u001b[0m\n\u001b[0;32m     17\u001b[0m     \u001b[0mblank\u001b[0m \u001b[1;33m=\u001b[0m \u001b[0mnp\u001b[0m\u001b[1;33m.\u001b[0m\u001b[0mzeros_like\u001b[0m\u001b[1;33m(\u001b[0m\u001b[0mimg\u001b[0m\u001b[1;33m[\u001b[0m\u001b[1;33m:\u001b[0m\u001b[1;33m,\u001b[0m\u001b[1;33m:\u001b[0m\u001b[1;33m,\u001b[0m\u001b[1;36m0\u001b[0m\u001b[1;33m]\u001b[0m\u001b[1;33m)\u001b[0m\u001b[1;33m.\u001b[0m\u001b[0mastype\u001b[0m\u001b[1;33m(\u001b[0m\u001b[0mnp\u001b[0m\u001b[1;33m.\u001b[0m\u001b[0mfloat\u001b[0m\u001b[1;33m)\u001b[0m\u001b[1;33m\u001b[0m\u001b[1;33m\u001b[0m\u001b[0m\n",
      "\u001b[1;32m<ipython-input-4-88169163e117>\u001b[0m in \u001b[0;36mfind_cars\u001b[1;34m(img, svc, X_scaler, orient, pix_per_cell, cell_per_block, spatial_size, hist_bins, ystart_ystop_scale, h_shift, visualisation)\u001b[0m\n\u001b[0;32m     25\u001b[0m         \u001b[0mprint\u001b[0m\u001b[1;33m(\u001b[0m\u001b[0mpix_per_cell\u001b[0m\u001b[1;33m)\u001b[0m\u001b[1;33m\u001b[0m\u001b[1;33m\u001b[0m\u001b[0m\n\u001b[0;32m     26\u001b[0m \u001b[1;33m\u001b[0m\u001b[0m\n\u001b[1;32m---> 27\u001b[1;33m         \u001b[0mnxblocks\u001b[0m \u001b[1;33m=\u001b[0m \u001b[1;33m(\u001b[0m\u001b[0mch1\u001b[0m\u001b[1;33m.\u001b[0m\u001b[0mshape\u001b[0m\u001b[1;33m[\u001b[0m\u001b[1;36m1\u001b[0m\u001b[1;33m]\u001b[0m \u001b[1;33m//\u001b[0m \u001b[0mpix_per_cell\u001b[0m\u001b[1;33m)\u001b[0m \u001b[1;33m-\u001b[0m \u001b[0mcell_per_block\u001b[0m \u001b[1;33m+\u001b[0m \u001b[1;36m1\u001b[0m\u001b[1;33m\u001b[0m\u001b[1;33m\u001b[0m\u001b[0m\n\u001b[0m\u001b[0;32m     28\u001b[0m         \u001b[0mnyblocks\u001b[0m \u001b[1;33m=\u001b[0m \u001b[1;33m(\u001b[0m\u001b[0mch1\u001b[0m\u001b[1;33m.\u001b[0m\u001b[0mshape\u001b[0m\u001b[1;33m[\u001b[0m\u001b[1;36m0\u001b[0m\u001b[1;33m]\u001b[0m \u001b[1;33m//\u001b[0m \u001b[0mpix_per_cell\u001b[0m\u001b[1;33m)\u001b[0m \u001b[1;33m-\u001b[0m \u001b[0mcell_per_block\u001b[0m \u001b[1;33m+\u001b[0m \u001b[1;36m1\u001b[0m\u001b[1;33m\u001b[0m\u001b[1;33m\u001b[0m\u001b[0m\n\u001b[0;32m     29\u001b[0m         \u001b[0mnfeat_per_block\u001b[0m \u001b[1;33m=\u001b[0m \u001b[0morient\u001b[0m\u001b[1;33m*\u001b[0m\u001b[0mcell_per_block\u001b[0m\u001b[1;33m**\u001b[0m\u001b[1;36m2\u001b[0m\u001b[1;33m\u001b[0m\u001b[1;33m\u001b[0m\u001b[0m\n",
      "\u001b[1;31mTypeError\u001b[0m: unsupported operand type(s) for //: 'int' and 'tuple'"
     ]
    }
   ],
   "source": [
    "result = process_image(test_images[3])\n",
    "plt.figure(figsize = (20,20))\n",
    "plt.imshow(result)\n",
    "#plt.axis(\"off\")"
   ]
  },
  {
   "cell_type": "code",
   "execution_count": null,
   "metadata": {},
   "outputs": [],
   "source": []
  }
 ],
 "metadata": {
  "kernelspec": {
   "display_name": "Python 3",
   "language": "python",
   "name": "python3"
  },
  "language_info": {
   "codemirror_mode": {
    "name": "ipython",
    "version": 3
   },
   "file_extension": ".py",
   "mimetype": "text/x-python",
   "name": "python",
   "nbconvert_exporter": "python",
   "pygments_lexer": "ipython3",
   "version": "3.7.10"
  },
  "varInspector": {
   "cols": {
    "lenName": 16,
    "lenType": 16,
    "lenVar": 40
   },
   "kernels_config": {
    "python": {
     "delete_cmd_postfix": "",
     "delete_cmd_prefix": "del ",
     "library": "var_list.py",
     "varRefreshCmd": "print(var_dic_list())"
    },
    "r": {
     "delete_cmd_postfix": ") ",
     "delete_cmd_prefix": "rm(",
     "library": "var_list.r",
     "varRefreshCmd": "cat(var_dic_list()) "
    }
   },
   "types_to_exclude": [
    "module",
    "function",
    "builtin_function_or_method",
    "instance",
    "_Feature"
   ],
   "window_display": false
  }
 },
 "nbformat": 4,
 "nbformat_minor": 4
}
